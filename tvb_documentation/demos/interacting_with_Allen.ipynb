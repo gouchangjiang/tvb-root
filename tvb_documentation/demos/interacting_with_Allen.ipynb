{
 "cells": [
  {
   "cell_type": "markdown",
   "metadata": {},
   "source": [
    "## TVB-Framework command initialisation"
   ]
  },
  {
   "cell_type": "code",
   "execution_count": 1,
   "metadata": {
    "scrolled": true
   },
   "outputs": [
    {
     "name": "stdout",
     "output_type": "stream",
     "text": [
      "2020-10-28 21:07:18,887 - WARNING - tvb.config.init.introspector_registry - Skipped Adapter(probably because MATLAB not found):<class 'tvb.adapters.analyzers.bct_adapters.DistanceDBIN'>\n",
      "2020-10-28 21:07:18,888 - WARNING - tvb.config.init.introspector_registry - Skipped Adapter(probably because MATLAB not found):<class 'tvb.adapters.analyzers.bct_adapters.DistanceDWEI'>\n",
      "2020-10-28 21:07:18,888 - WARNING - tvb.config.init.introspector_registry - Skipped Adapter(probably because MATLAB not found):<class 'tvb.adapters.analyzers.bct_adapters.DistanceNETW'>\n",
      "2020-10-28 21:07:18,889 - WARNING - tvb.config.init.introspector_registry - Skipped Adapter(probably because MATLAB not found):<class 'tvb.adapters.analyzers.bct_adapters.DistanceRDA'>\n",
      "2020-10-28 21:07:18,890 - WARNING - tvb.config.init.introspector_registry - Skipped Adapter(probably because MATLAB not found):<class 'tvb.adapters.analyzers.bct_adapters.DistanceRDM'>\n",
      "2020-10-28 21:07:18,890 - WARNING - tvb.config.init.introspector_registry - Skipped Adapter(probably because MATLAB not found):<class 'tvb.adapters.analyzers.bct_adapters.ModularityOCSM'>\n",
      "2020-10-28 21:07:18,891 - WARNING - tvb.config.init.introspector_registry - Skipped Adapter(probably because MATLAB not found):<class 'tvb.adapters.analyzers.bct_adapters.ModularityOpCSMU'>\n",
      "2020-10-28 21:07:18,897 - WARNING - tvb.config.init.introspector_registry - Skipped Adapter(probably because MATLAB not found):<class 'tvb.adapters.analyzers.bct_centrality_adapters.CentralityEdgeBinary'>\n",
      "2020-10-28 21:07:18,898 - WARNING - tvb.config.init.introspector_registry - Skipped Adapter(probably because MATLAB not found):<class 'tvb.adapters.analyzers.bct_centrality_adapters.CentralityEdgeWeighted'>\n",
      "2020-10-28 21:07:18,899 - WARNING - tvb.config.init.introspector_registry - Skipped Adapter(probably because MATLAB not found):<class 'tvb.adapters.analyzers.bct_centrality_adapters.CentralityEigenVector'>\n",
      "2020-10-28 21:07:18,899 - WARNING - tvb.config.init.introspector_registry - Skipped Adapter(probably because MATLAB not found):<class 'tvb.adapters.analyzers.bct_centrality_adapters.CentralityKCoreness'>\n",
      "2020-10-28 21:07:18,900 - WARNING - tvb.config.init.introspector_registry - Skipped Adapter(probably because MATLAB not found):<class 'tvb.adapters.analyzers.bct_centrality_adapters.CentralityKCorenessBD'>\n",
      "2020-10-28 21:07:18,901 - WARNING - tvb.config.init.introspector_registry - Skipped Adapter(probably because MATLAB not found):<class 'tvb.adapters.analyzers.bct_centrality_adapters.CentralityNodeBinary'>\n",
      "2020-10-28 21:07:18,901 - WARNING - tvb.config.init.introspector_registry - Skipped Adapter(probably because MATLAB not found):<class 'tvb.adapters.analyzers.bct_centrality_adapters.CentralityNodeWeighted'>\n",
      "2020-10-28 21:07:18,902 - WARNING - tvb.config.init.introspector_registry - Skipped Adapter(probably because MATLAB not found):<class 'tvb.adapters.analyzers.bct_centrality_adapters.CentralityShortcuts'>\n",
      "2020-10-28 21:07:18,902 - WARNING - tvb.config.init.introspector_registry - Skipped Adapter(probably because MATLAB not found):<class 'tvb.adapters.analyzers.bct_centrality_adapters.FlowCoefficients'>\n",
      "2020-10-28 21:07:18,903 - WARNING - tvb.config.init.introspector_registry - Skipped Adapter(probably because MATLAB not found):<class 'tvb.adapters.analyzers.bct_centrality_adapters.ParticipationCoefficient'>\n",
      "2020-10-28 21:07:18,903 - WARNING - tvb.config.init.introspector_registry - Skipped Adapter(probably because MATLAB not found):<class 'tvb.adapters.analyzers.bct_centrality_adapters.ParticipationCoefficientSign'>\n",
      "2020-10-28 21:07:18,904 - WARNING - tvb.config.init.introspector_registry - Skipped Adapter(probably because MATLAB not found):<class 'tvb.adapters.analyzers.bct_centrality_adapters.SubgraphCentrality'>\n",
      "2020-10-28 21:07:18,908 - WARNING - tvb.config.init.introspector_registry - Skipped Adapter(probably because MATLAB not found):<class 'tvb.adapters.analyzers.bct_clustering_adapters.ClusteringCoefficient'>\n",
      "2020-10-28 21:07:18,909 - WARNING - tvb.config.init.introspector_registry - Skipped Adapter(probably because MATLAB not found):<class 'tvb.adapters.analyzers.bct_clustering_adapters.ClusteringCoefficientBU'>\n",
      "2020-10-28 21:07:18,910 - WARNING - tvb.config.init.introspector_registry - Skipped Adapter(probably because MATLAB not found):<class 'tvb.adapters.analyzers.bct_clustering_adapters.ClusteringCoefficientWD'>\n",
      "2020-10-28 21:07:18,910 - WARNING - tvb.config.init.introspector_registry - Skipped Adapter(probably because MATLAB not found):<class 'tvb.adapters.analyzers.bct_clustering_adapters.ClusteringCoefficientWU'>\n",
      "2020-10-28 21:07:18,911 - WARNING - tvb.config.init.introspector_registry - Skipped Adapter(probably because MATLAB not found):<class 'tvb.adapters.analyzers.bct_clustering_adapters.TransitivityBinaryDirected'>\n",
      "2020-10-28 21:07:18,912 - WARNING - tvb.config.init.introspector_registry - Skipped Adapter(probably because MATLAB not found):<class 'tvb.adapters.analyzers.bct_clustering_adapters.TransitivityBinaryUnDirected'>\n",
      "2020-10-28 21:07:18,913 - WARNING - tvb.config.init.introspector_registry - Skipped Adapter(probably because MATLAB not found):<class 'tvb.adapters.analyzers.bct_clustering_adapters.TransitivityWeightedDirected'>\n",
      "2020-10-28 21:07:18,913 - WARNING - tvb.config.init.introspector_registry - Skipped Adapter(probably because MATLAB not found):<class 'tvb.adapters.analyzers.bct_clustering_adapters.TransitivityWeightedUnDirected'>\n",
      "2020-10-28 21:07:18,918 - WARNING - tvb.config.init.introspector_registry - Skipped Adapter(probably because MATLAB not found):<class 'tvb.adapters.analyzers.bct_degree_adapters.Degree'>\n",
      "2020-10-28 21:07:18,918 - WARNING - tvb.config.init.introspector_registry - Skipped Adapter(probably because MATLAB not found):<class 'tvb.adapters.analyzers.bct_degree_adapters.DegreeIOD'>\n",
      "2020-10-28 21:07:18,919 - WARNING - tvb.config.init.introspector_registry - Skipped Adapter(probably because MATLAB not found):<class 'tvb.adapters.analyzers.bct_degree_adapters.DensityDirected'>\n",
      "2020-10-28 21:07:18,920 - WARNING - tvb.config.init.introspector_registry - Skipped Adapter(probably because MATLAB not found):<class 'tvb.adapters.analyzers.bct_degree_adapters.DensityUndirected'>\n",
      "2020-10-28 21:07:18,920 - WARNING - tvb.config.init.introspector_registry - Skipped Adapter(probably because MATLAB not found):<class 'tvb.adapters.analyzers.bct_degree_adapters.JointDegree'>\n",
      "2020-10-28 21:07:18,921 - WARNING - tvb.config.init.introspector_registry - Skipped Adapter(probably because MATLAB not found):<class 'tvb.adapters.analyzers.bct_degree_adapters.MatchingIndex'>\n",
      "2020-10-28 21:07:18,922 - WARNING - tvb.config.init.introspector_registry - Skipped Adapter(probably because MATLAB not found):<class 'tvb.adapters.analyzers.bct_degree_adapters.Strength'>\n",
      "2020-10-28 21:07:18,922 - WARNING - tvb.config.init.introspector_registry - Skipped Adapter(probably because MATLAB not found):<class 'tvb.adapters.analyzers.bct_degree_adapters.StrengthISOS'>\n",
      "2020-10-28 21:07:18,923 - WARNING - tvb.config.init.introspector_registry - Skipped Adapter(probably because MATLAB not found):<class 'tvb.adapters.analyzers.bct_degree_adapters.StrengthWeights'>\n",
      "2020-10-28 21:07:20,054 - INFO - tvb.config.init.model_manager - Database already has some data, will not be re-created!\n"
     ]
    }
   ],
   "source": [
    "from tvb.interfaces.command.lab import *\n",
    "from tvb.adapters.creators.allen_creator import AllenConnectomeBuilder\n",
    "from tvb.adapters.creators.allen_creator import AllenConnectModel\n",
    "from tvb.core.adapters.abcadapter import ABCAdapter\n",
    "from tvb.core.services.operation_service import OperationService"
   ]
  },
  {
   "cell_type": "code",
   "execution_count": 2,
   "metadata": {},
   "outputs": [
    {
     "name": "stdout",
     "output_type": "stream",
     "text": [
      "                    name    id\n",
      "         Default_Project     1\n",
      "                 sandbox     2\n"
     ]
    }
   ],
   "source": [
    "list_projects()"
   ]
  },
  {
   "cell_type": "code",
   "execution_count": 3,
   "metadata": {},
   "outputs": [
    {
     "name": "stdout",
     "output_type": "stream",
     "text": [
      "2020-10-28 21:07:41,317 - INFO - tvb.core.services.operation_service - Starting operation AllenConnectomeBuilder\n",
      "2020-10-28 21:07:41,365 - INFO - tvb.core.services.operation_service - Finished operation launch:AllenConnectomeBuilder\n",
      "2020-10-28 21:07:41,369 - INFO - tvb.interfaces.command.lab - Operation launched....\n"
     ]
    },
    {
     "data": {
      "text/plain": [
       "<Operation('1f162913e6e64f3998ee68a7d9e7d1de', da2aca34-1950-11eb-a6ec-faffc245676e, 2,'1','64','2020-10-28 21:07:41.324631','None', 'None','4-PENDING',True, 'None', '', '', 0)>"
      ]
     },
     "execution_count": 3,
     "metadata": {},
     "output_type": "execute_result"
    }
   ],
   "source": [
    "builder_instance = ABCAdapter.build_adapter_from_class(AllenConnectomeBuilder)\n",
    "\n",
    "# The corresponding view_model is AllenConnectModel. You can either instantiate it directly or get it by calling\n",
    "# the get_view_model_class adapter function.\n",
    "view_model = builder_instance.get_view_model_class()()\n",
    "\n",
    "view_model.resolution = 100\n",
    "view_model.weighting = 1\n",
    "view_model.inj_f_thresh = 80\n",
    "view_model.vol_thresh= 100000000\n",
    "\n",
    "# This ID of a project needs to exists in Db, and it can be taken from the WebInterface:\n",
    "launched_operation = fire_operation(1, builder_instance, view_model)\n",
    "launched_operation"
   ]
  },
  {
   "cell_type": "code",
   "execution_count": 4,
   "metadata": {},
   "outputs": [
    {
     "name": "stdout",
     "output_type": "stream",
     "text": [
      "2020-10-28 22:18:24,386 - INFO - tvb.core.services.backend_clients.standalone_client - Finished with launch of operation 14\n",
      "2020-10-28 22:18:24,426 - INFO - tvb.interfaces.command.lab - Operation finished successfully\n"
     ]
    },
    {
     "data": {
      "text/plain": [
       "<Operation('1f162913e6e64f3998ee68a7d9e7d1de', da2aca34-1950-11eb-a6ec-faffc245676e, 2,'1','64','2020-10-28 21:07:41.324631','2020-10-28 21:07:44.830987', '2020-10-28 22:18:23.937416','5-FINISHED',True, 'None', '2020-10-28,22-18-23', '', -1)>"
      ]
     },
     "execution_count": 4,
     "metadata": {},
     "output_type": "execute_result"
    }
   ],
   "source": [
    "launched_operation = wait_to_finish(launched_operation)\n",
    "launched_operation"
   ]
  },
  {
   "cell_type": "markdown",
   "metadata": {
    "collapsed": true
   },
   "source": [
    "At this point, your operation of Allen DB import should be running in the background.\n",
    "If you launch TVB web GUI, and you go to Project -> Operations page, you should see the new operation running (state color BLUE).\n",
    "\n",
    "When done, your results will be ready for inspection in TVB web GUI.\n",
    "Do not close your computer until the operation has finished. If you do so, then relaunch after you restart. Downloaded files will not be lost, but found by the new operation.\n"
   ]
  },
  {
   "cell_type": "code",
   "execution_count": 5,
   "metadata": {},
   "outputs": [
    {
     "name": "stdout",
     "output_type": "stream",
     "text": [
      "              id                     type                              gid         date\n",
      "              29        ConnectivityIndex d177bb2bd41a493a8e4219b07172f0c2 2020-10-28 22:18:23.765955\n",
      "              30              VolumeIndex 02774701f71e4a06ac13d1911227b152 2020-10-28 22:18:23.811680\n",
      "              31 RegionVolumeMappingIndex 5af200c9c346419bb896b1b910b409f6 2020-10-28 22:18:23.849573\n",
      "              32       StructuralMRIIndex 8c652d1873804ba6af832586ac67fcc7 2020-10-28 22:18:23.891895\n"
     ]
    }
   ],
   "source": [
    "list_operation_results(launched_operation.id)"
   ]
  }
 ],
 "metadata": {
  "kernelspec": {
   "display_name": "Python 3",
   "language": "python",
   "name": "python3"
  },
  "language_info": {
   "codemirror_mode": {
    "name": "ipython",
    "version": 3
   },
   "file_extension": ".py",
   "mimetype": "text/x-python",
   "name": "python",
   "nbconvert_exporter": "python",
   "pygments_lexer": "ipython3",
   "version": "3.7.7"
  }
 },
 "nbformat": 4,
 "nbformat_minor": 1
}
